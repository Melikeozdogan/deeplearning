{
  "nbformat": 4,
  "nbformat_minor": 0,
  "metadata": {
    "colab": {
      "provenance": [],
      "collapsed_sections": []
    },
    "kernelspec": {
      "name": "python3",
      "display_name": "Python 3"
    },
    "language_info": {
      "name": "python"
    }
  },
  "cells": [
    {
      "cell_type": "code",
      "execution_count": 1,
      "metadata": {
        "id": "vgbFPnv3acLH"
      },
      "outputs": [],
      "source": [
        "import librosa\n",
        "import numpy as np\n",
        "import matplotlib.pyplot as plt\n",
        "import librosa.display"
      ]
    },
    {
      "cell_type": "code",
      "source": [
        "def create_spectrogram(y):\n",
        "    spec=librosa.feature.melspectrogram(y=y)\n",
        "    spec_conv=librosa.amplitude_to_db(spec,ref=np.max)\n",
        "    return spec_conv"
      ],
      "metadata": {
        "id": "NYyQ9AGZamS8"
      },
      "execution_count": 2,
      "outputs": []
    },
    {
      "cell_type": "code",
      "source": [
        "ses = \"7061-6-0-0.wav\"\n",
        "x,sr = librosa.load(ses)\n",
        "print(\"x type:\",type(x),\"sr type\",type(sr))"
      ],
      "metadata": {
        "colab": {
          "base_uri": "https://localhost:8080/"
        },
        "id": "eWisudIXapKU",
        "outputId": "2ec3ed61-75b1-4b75-9fd7-f65875a46772"
      },
      "execution_count": 4,
      "outputs": [
        {
          "output_type": "stream",
          "name": "stdout",
          "text": [
            "x type: <class 'numpy.ndarray'> sr type <class 'int'>\n"
          ]
        }
      ]
    },
    {
      "cell_type": "code",
      "source": [
        "print(create_spectrogram(x))"
      ],
      "metadata": {
        "colab": {
          "base_uri": "https://localhost:8080/"
        },
        "id": "r65MDwyCa3sh",
        "outputId": "ebf6a84d-6edc-462b-c15b-6fdb7f916261"
      },
      "execution_count": 5,
      "outputs": [
        {
          "output_type": "stream",
          "name": "stdout",
          "text": [
            "[[-52.268875 -21.47731   -9.905331 ... -80.       -80.       -80.      ]\n",
            " [-49.877033 -29.69271  -20.219826 ... -80.       -80.       -80.      ]\n",
            " [-46.015053 -28.851793 -26.86333  ... -80.       -80.       -80.      ]\n",
            " ...\n",
            " [-80.       -71.54043  -66.80802  ... -80.       -80.       -80.      ]\n",
            " [-80.       -80.       -80.       ... -80.       -80.       -80.      ]\n",
            " [-80.       -80.       -80.       ... -80.       -80.       -80.      ]]\n"
          ]
        }
      ]
    },
    {
      "cell_type": "code",
      "source": [
        "plt.figure(figsize=(10,2))\n",
        "librosa.display.waveshow(x,sr=sr)\n",
        "plt.show()"
      ],
      "metadata": {
        "colab": {
          "base_uri": "https://localhost:8080/",
          "height": 171
        },
        "id": "Tpe34DfQa7IV",
        "outputId": "afcfe481-1e64-461a-ed7b-6d5ce0133149"
      },
      "execution_count": 6,
      "outputs": [
        {
          "output_type": "display_data",
          "data": {
            "text/plain": [
              "<Figure size 720x144 with 1 Axes>"
            ],
            "image/png": "[encoded data removed]"
          },
          "metadata": {
            "needs_background": "light"
          }
        }
      ]
    }
  ]
}