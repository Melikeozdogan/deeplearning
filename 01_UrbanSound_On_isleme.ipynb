{
  "nbformat": 4,
  "nbformat_minor": 0,
  "metadata": {
    "colab": {
      "provenance": []
    },
    "kernelspec": {
      "name": "python3",
      "display_name": "Python 3"
    },
    "language_info": {
      "name": "python"
    },
    "accelerator": "GPU"
  },
  "cells": [
    {
      "cell_type": "code",
      "execution_count": 1,
      "metadata": {
        "id": "cl7n8GNMXB3D"
      },
      "outputs": [],
      "source": [
        "import pandas as pd\n",
        "import numpy as np\n",
        "pd.plotting.register_matplotlib_converters()\n",
        "import matplotlib.pyplot as plt\n",
        "%matplotlib inline\n",
        "import seaborn as sns\n",
        "from sklearn.model_selection import train_test_split\n",
        "from sklearn.metrics import classification_report\n",
        "from sklearn.model_selection import GridSearchCV\n",
        "from sklearn.preprocessing import MinMaxScaler\n",
        "from tensorflow.keras.models import Sequential\n",
        "from tensorflow.keras.layers import Conv2D, Flatten, Dense, MaxPool2D, Dropout\n",
        "from tensorflow.keras.utils import to_categorical \n",
        "from sklearn.ensemble import RandomForestClassifier\n",
        "from sklearn.svm import SVC\n",
        "import os\n",
        "import librosa\n",
        "import librosa.display\n",
        "import glob \n",
        "import skimage"
      ]
    },
    {
      "cell_type": "code",
      "source": [
        "df = pd.read_csv(\"/Users/gokseld/Downloads/UrbanSound8K/UrbanSound8K.csv\")\n",
        "df.head()"
      ],
      "metadata": {
        "colab": {
          "base_uri": "https://localhost:8080/",
          "height": 206
        },
        "id": "yGIWP6GDXcyi",
        "outputId": "23fb0397-ea4c-417f-d146-57153b93376f"
      },
      "execution_count": 2,
      "outputs": [
        {
          "output_type": "execute_result",
          "data": {
            "text/plain": [
              "      slice_file_name    fsID  start        end  salience  fold  classID  \\\n",
              "0    100032-3-0-0.wav  100032    0.0   0.317551         1     5        3   \n",
              "1  100263-2-0-117.wav  100263   58.5  62.500000         1     5        2   \n",
              "2  100263-2-0-121.wav  100263   60.5  64.500000         1     5        2   \n",
              "3  100263-2-0-126.wav  100263   63.0  67.000000         1     5        2   \n",
              "4  100263-2-0-137.wav  100263   68.5  72.500000         1     5        2   \n",
              "\n",
              "              class  \n",
              "0          dog_bark  \n",
              "1  children_playing  \n",
              "2  children_playing  \n",
              "3  children_playing  \n",
              "4  children_playing  "
            ],
            "text/html": [
              "<div>\n",
              "<style scoped>\n",
              "    .dataframe tbody tr th:only-of-type {\n",
              "        vertical-align: middle;\n",
              "    }\n",
              "\n",
              "    .dataframe tbody tr th {\n",
              "        vertical-align: top;\n",
              "    }\n",
              "\n",
              "    .dataframe thead th {\n",
              "        text-align: right;\n",
              "    }\n",
              "</style>\n",
              "<table border=\"1\" class=\"dataframe\">\n",
              "  <thead>\n",
              "    <tr style=\"text-align: right;\">\n",
              "      <th></th>\n",
              "      <th>slice_file_name</th>\n",
              "      <th>fsID</th>\n",
              "      <th>start</th>\n",
              "      <th>end</th>\n",
              "      <th>salience</th>\n",
              "      <th>fold</th>\n",
              "      <th>classID</th>\n",
              "      <th>class</th>\n",
              "    </tr>\n",
              "  </thead>\n",
              "  <tbody>\n",
              "    <tr>\n",
              "      <th>0</th>\n",
              "      <td>100032-3-0-0.wav</td>\n",
              "      <td>100032</td>\n",
              "      <td>0.0</td>\n",
              "      <td>0.317551</td>\n",
              "      <td>1</td>\n",
              "      <td>5</td>\n",
              "      <td>3</td>\n",
              "      <td>dog_bark</td>\n",
              "    </tr>\n",
              "    <tr>\n",
              "      <th>1</th>\n",
              "      <td>100263-2-0-117.wav</td>\n",
              "      <td>100263</td>\n",
              "      <td>58.5</td>\n",
              "      <td>62.500000</td>\n",
              "      <td>1</td>\n",
              "      <td>5</td>\n",
              "      <td>2</td>\n",
              "      <td>children_playing</td>\n",
              "    </tr>\n",
              "    <tr>\n",
              "      <th>2</th>\n",
              "      <td>100263-2-0-121.wav</td>\n",
              "      <td>100263</td>\n",
              "      <td>60.5</td>\n",
              "      <td>64.500000</td>\n",
              "      <td>1</td>\n",
              "      <td>5</td>\n",
              "      <td>2</td>\n",
              "      <td>children_playing</td>\n",
              "    </tr>\n",
              "    <tr>\n",
              "      <th>3</th>\n",
              "      <td>100263-2-0-126.wav</td>\n",
              "      <td>100263</td>\n",
              "      <td>63.0</td>\n",
              "      <td>67.000000</td>\n",
              "      <td>1</td>\n",
              "      <td>5</td>\n",
              "      <td>2</td>\n",
              "      <td>children_playing</td>\n",
              "    </tr>\n",
              "    <tr>\n",
              "      <th>4</th>\n",
              "      <td>100263-2-0-137.wav</td>\n",
              "      <td>100263</td>\n",
              "      <td>68.5</td>\n",
              "      <td>72.500000</td>\n",
              "      <td>1</td>\n",
              "      <td>5</td>\n",
              "      <td>2</td>\n",
              "      <td>children_playing</td>\n",
              "    </tr>\n",
              "  </tbody>\n",
              "</table>\n",
              "</div>"
            ]
          },
          "metadata": {},
          "execution_count": 2
        }
      ]
    },
    {
      "cell_type": "code",
      "source": [
        "dat1, sampling_rate1 = librosa.load('/Users/gokseld/Downloads/UrbanSound8K/audio/fold5/100032-3-0-0.wav')"
      ],
      "metadata": {
        "id": "I7JvNMr_XhIl"
      },
      "execution_count": 3,
      "outputs": []
    },
    {
      "cell_type": "code",
      "source": [
        "plt.figure(figsize=(15, 10))\n",
        "D = librosa.amplitude_to_db(np.abs(librosa.stft(dat1)), ref=np.max)\n",
        "plt.subplot(4, 2, 1)\n",
        "librosa.display.specshow(D, y_axis='linear')\n",
        "plt.colorbar(format='%+2.0f dB')\n",
        "plt.title('Linear-frequency power spectrogram')"
      ],
      "metadata": {
        "colab": {
          "base_uri": "https://localhost:8080/",
          "height": 189
        },
        "id": "MAmQh0J6X6cU",
        "outputId": "b2c55568-72d6-4f41-c2b0-5b095597929c"
      },
      "execution_count": 4,
      "outputs": [
        {
          "output_type": "execute_result",
          "data": {
            "text/plain": [
              "Text(0.5, 1.0, 'Linear-frequency power spectrogram')"
            ]
          },
          "metadata": {},
          "execution_count": 4
        },
        {
          "output_type": "display_data",
          "data": {
            "text/plain": [
              "<Figure size 1080x720 with 2 Axes>"
            ],
            "image/png": "[encoded data removed]"
          },
          "metadata": {
            "needs_background": "light"
          }
        }
      ]
    },
    {
      "cell_type": "code",
      "source": [
        "feature = []\n",
        "label = []\n",
        "\n",
        "def split(row):\n",
        "    for i in range(8732):\n",
        "        file_name = '/Users/gokseld/Downloads/UrbanSound8K/audio/fold' + str(df[\"fold\"][i]) + '/' + df[\"slice_file_name\"][i]\n",
        "        X, sample_rate = librosa.load(file_name, res_type='kaiser_fast') \n",
        "        mels = np.mean(librosa.feature.melspectrogram(y=X, sr=sample_rate).T,axis=0)        \n",
        "        feature.append(mels)\n",
        "        label.append(df[\"classID\"][i])\n",
        "    return [feature, label]"
      ],
      "metadata": {
        "id": "p3lqPMR-X-M9"
      },
      "execution_count": 5,
      "outputs": []
    },
    {
      "cell_type": "code",
      "source": [
        "temp = split(df)"
      ],
      "metadata": {
        "colab": {
          "base_uri": "https://localhost:8080/"
        },
        "id": "AYjDDRldYe_h",
        "outputId": "4bb3898b-fc99-4714-84e1-d8e22b03ae4d"
      },
      "execution_count": 6,
      "outputs": [
        {
          "output_type": "stream",
          "name": "stderr",
          "text": [
            "/Library/Frameworks/Python.framework/Versions/3.10/lib/python3.10/site-packages/librosa/util/decorators.py:88: UserWarning: n_fft=2048 is too small for input signal of length=1323\n",
            "  return f(*args, **kwargs)\n",
            "/Library/Frameworks/Python.framework/Versions/3.10/lib/python3.10/site-packages/librosa/util/decorators.py:88: UserWarning: n_fft=2048 is too small for input signal of length=1103\n",
            "  return f(*args, **kwargs)\n",
            "/Library/Frameworks/Python.framework/Versions/3.10/lib/python3.10/site-packages/librosa/util/decorators.py:88: UserWarning: n_fft=2048 is too small for input signal of length=1523\n",
            "  return f(*args, **kwargs)\n"
          ]
        }
      ]
    },
    {
      "cell_type": "code",
      "source": [
        "temp = np.array(temp)\n",
        "data = temp.transpose()"
      ],
      "metadata": {
        "colab": {
          "base_uri": "https://localhost:8080/"
        },
        "id": "mGuyU3QvYi1G",
        "outputId": "4c93d533-2431-4bc8-a68f-980efac2911b"
      },
      "execution_count": 7,
      "outputs": [
        {
          "output_type": "stream",
          "name": "stderr",
          "text": [
            "/var/folders/t6/yngngjtn5lb_y7k_m06frlkr0000gn/T/ipykernel_32260/1993562939.py:1: VisibleDeprecationWarning: Creating an ndarray from ragged nested sequences (which is a list-or-tuple of lists-or-tuples-or ndarrays with different lengths or shapes) is deprecated. If you meant to do this, you must specify 'dtype=object' when creating the ndarray.\n",
            "  temp = np.array(temp)\n"
          ]
        }
      ]
    },
    {
      "cell_type": "code",
      "source": [
        "X_ = data[:, 0]\n",
        "Y = data[:, 1]\n",
        "print(X_.shape, Y.shape)\n",
        "X = np.empty([8732, 128])"
      ],
      "metadata": {
        "colab": {
          "base_uri": "https://localhost:8080/"
        },
        "id": "Aks6hpc2YqvW",
        "outputId": "7ce944a8-0f1f-4ed1-8439-53a8c0fe2cd3"
      },
      "execution_count": 8,
      "outputs": [
        {
          "output_type": "stream",
          "name": "stdout",
          "text": [
            "(8732,) (8732,)\n"
          ]
        }
      ]
    },
    {
      "cell_type": "code",
      "source": [
        "for i in range(8732):\n",
        "    X[i] = (X_[i])"
      ],
      "metadata": {
        "id": "FC3HcVYOYxJg"
      },
      "execution_count": 9,
      "outputs": []
    },
    {
      "cell_type": "code",
      "source": [
        "Y = to_categorical(Y)"
      ],
      "metadata": {
        "id": "eHK1M1xkYybB"
      },
      "execution_count": 10,
      "outputs": []
    },
    {
      "cell_type": "code",
      "source": [
        "print(X.shape)\n",
        "print(Y.shape)"
      ],
      "metadata": {
        "colab": {
          "base_uri": "https://localhost:8080/"
        },
        "id": "GZzYQ4GhYz8a",
        "outputId": "d6251b47-f437-4173-b2f6-b690dbda20b7"
      },
      "execution_count": 11,
      "outputs": [
        {
          "output_type": "stream",
          "name": "stdout",
          "text": [
            "(8732, 128)\n",
            "(8732, 10)\n"
          ]
        }
      ]
    },
    {
      "cell_type": "code",
      "source": [
        "X_train, X_test, Y_train, Y_test = train_test_split(X, Y, random_state = 1)\n",
        "X_train = X_train.reshape(6549, 16, 8, 1)\n",
        "X_test = X_test.reshape(2183, 16, 8, 1)"
      ],
      "metadata": {
        "id": "KJHE_FdIY3kt"
      },
      "execution_count": 14,
      "outputs": []
    },
    {
      "cell_type": "code",
      "source": [
        "input_dim = (16, 8, 1)"
      ],
      "metadata": {
        "id": "u2Ieh2cgZQ8J"
      },
      "execution_count": 15,
      "outputs": []
    },
    {
      "cell_type": "code",
      "source": [
        "np.save(\"/Users/gokseld/Downloads/UrbanSound8K/X_train\", X_train)"
      ],
      "metadata": {
        "id": "PNWqB7UGZf3m"
      },
      "execution_count": 17,
      "outputs": []
    },
    {
      "cell_type": "code",
      "source": [
        "np.save(\"/Users/gokseld/Downloads/UrbanSound8K/Y_train\", Y_train)"
      ],
      "metadata": {
        "id": "sRfJ00dObzQM"
      },
      "execution_count": 18,
      "outputs": []
    },
    {
      "cell_type": "code",
      "source": [
        "np.save(\"/Users/gokseld/Downloads/UrbanSound8K/X_test\", X_test)"
      ],
      "metadata": {
        "id": "J_CnXN9Gb702"
      },
      "execution_count": 19,
      "outputs": []
    },
    {
      "cell_type": "code",
      "source": [
        "np.save(\"/Users/gokseld/Downloads/UrbanSound8K/Y_test\", Y_test)"
      ],
      "metadata": {
        "id": "qRZ5pmtRcAb4"
      },
      "execution_count": 20,
      "outputs": []
    },
    {
      "cell_type": "code",
      "source": [
        "np.load('/Users/gokseld/Downloads/UrbanSound8K/X_train.npy',\"r\")"
      ],
      "metadata": {
        "colab": {
          "base_uri": "https://localhost:8080/"
        },
        "id": "sNpFO8nvbZsP",
        "outputId": "4d2c905d-4ea1-4778-c6d7-d22195a3a4ce"
      },
      "execution_count": 25,
      "outputs": [
        {
          "output_type": "execute_result",
          "data": {
            "text/plain": [
              "memmap([[[[1.40592213e+01],\n",
              "          [1.55373211e+01],\n",
              "          [9.97596073e+00],\n",
              "          ...,\n",
              "          [6.26926243e-01],\n",
              "          [2.53791183e-01],\n",
              "          [1.80456424e+00]],\n",
              "\n",
              "         [[3.15338945e+00],\n",
              "          [1.54282641e+00],\n",
              "          [2.44042873e+00],\n",
              "          ...,\n",
              "          [4.94355828e-01],\n",
              "          [6.83517516e-01],\n",
              "          [4.03101563e-01]],\n",
              "\n",
              "         [[1.11934590e+00],\n",
              "          [5.58620691e-01],\n",
              "          [1.52265358e+00],\n",
              "          ...,\n",
              "          [2.13232112e+00],\n",
              "          [4.25532103e+00],\n",
              "          [1.45044029e+00]],\n",
              "\n",
              "         ...,\n",
              "\n",
              "         [[1.66678354e-02],\n",
              "          [7.96784926e-03],\n",
              "          [8.39082152e-03],\n",
              "          ...,\n",
              "          [5.52416407e-03],\n",
              "          [6.06355863e-03],\n",
              "          [6.56462833e-03]],\n",
              "\n",
              "         [[6.89657917e-03],\n",
              "          [7.76572572e-03],\n",
              "          [4.80588246e-03],\n",
              "          ...,\n",
              "          [4.62374091e-03],\n",
              "          [4.15731454e-03],\n",
              "          [2.62750359e-03]],\n",
              "\n",
              "         [[2.00630212e-03],\n",
              "          [1.11476495e-03],\n",
              "          [5.66608505e-04],\n",
              "          ...,\n",
              "          [9.73091755e-06],\n",
              "          [4.95006645e-07],\n",
              "          [1.19503753e-07]]],\n",
              "\n",
              "\n",
              "        [[[7.32878566e-01],\n",
              "          [8.28608155e-01],\n",
              "          [6.55987561e-01],\n",
              "          ...,\n",
              "          [9.26677048e-01],\n",
              "          [1.06999862e+00],\n",
              "          [1.51614809e+00]],\n",
              "\n",
              "         [[1.71900558e+00],\n",
              "          [5.22164583e+00],\n",
              "          [2.10862112e+00],\n",
              "          ...,\n",
              "          [2.14167833e+00],\n",
              "          [1.05139637e+01],\n",
              "          [2.87868357e+00]],\n",
              "\n",
              "         [[4.93922949e-01],\n",
              "          [4.36196387e-01],\n",
              "          [1.45222044e+00],\n",
              "          ...,\n",
              "          [8.87319148e-01],\n",
              "          [1.00319874e+00],\n",
              "          [4.52382535e-01]],\n",
              "\n",
              "         ...,\n",
              "\n",
              "         [[7.67715275e-02],\n",
              "          [6.35428876e-02],\n",
              "          [5.26568964e-02],\n",
              "          ...,\n",
              "          [4.53246422e-02],\n",
              "          [3.43498476e-02],\n",
              "          [2.29700748e-02]],\n",
              "\n",
              "         [[1.96617413e-02],\n",
              "          [1.94812398e-02],\n",
              "          [1.64342560e-02],\n",
              "          ...,\n",
              "          [1.52911972e-02],\n",
              "          [1.01864589e-02],\n",
              "          [7.91135803e-03]],\n",
              "\n",
              "         [[5.27899712e-03],\n",
              "          [1.92305015e-03],\n",
              "          [1.00416108e-03],\n",
              "          ...,\n",
              "          [3.93044866e-05],\n",
              "          [6.52013750e-06],\n",
              "          [3.59558339e-06]]],\n",
              "\n",
              "\n",
              "        [[[8.44905853e+00],\n",
              "          [4.96452484e+01],\n",
              "          [5.42240181e+01],\n",
              "          ...,\n",
              "          [1.60650421e+02],\n",
              "          [1.86969025e+02],\n",
              "          [9.09992828e+01]],\n",
              "\n",
              "         [[1.51795761e+02],\n",
              "          [1.34449890e+02],\n",
              "          [1.13546844e+02],\n",
              "          ...,\n",
              "          [6.02919250e+02],\n",
              "          [3.81836212e+02],\n",
              "          [2.03754379e+02]],\n",
              "\n",
              "         [[2.16599365e+02],\n",
              "          [1.79357056e+02],\n",
              "          [2.11271042e+02],\n",
              "          ...,\n",
              "          [1.82546921e+02],\n",
              "          [1.34137268e+02],\n",
              "          [7.00480804e+01]],\n",
              "\n",
              "         ...,\n",
              "\n",
              "         [[5.82476091e+00],\n",
              "          [4.84224796e+00],\n",
              "          [4.98898983e+00],\n",
              "          ...,\n",
              "          [2.90226054e+00],\n",
              "          [1.24179268e+00],\n",
              "          [5.78119516e-01]],\n",
              "\n",
              "         [[4.13418889e-01],\n",
              "          [2.84309983e-01],\n",
              "          [2.42446125e-01],\n",
              "          ...,\n",
              "          [8.62133689e-03],\n",
              "          [1.00775240e-02],\n",
              "          [9.91193764e-03]],\n",
              "\n",
              "         [[8.08811747e-03],\n",
              "          [6.11664774e-03],\n",
              "          [4.84496821e-03],\n",
              "          ...,\n",
              "          [1.87578742e-04],\n",
              "          [5.84485388e-05],\n",
              "          [4.41389020e-05]]],\n",
              "\n",
              "\n",
              "        ...,\n",
              "\n",
              "\n",
              "        [[[9.22613800e-01],\n",
              "          [1.00223958e+00],\n",
              "          [5.68028033e-01],\n",
              "          ...,\n",
              "          [1.03349321e-01],\n",
              "          [9.19118300e-02],\n",
              "          [8.24107006e-02]],\n",
              "\n",
              "         [[8.44281390e-02],\n",
              "          [6.81284219e-02],\n",
              "          [5.34592234e-02],\n",
              "          ...,\n",
              "          [3.61201353e-02],\n",
              "          [3.62911820e-02],\n",
              "          [2.83207968e-02]],\n",
              "\n",
              "         [[1.68756992e-02],\n",
              "          [1.36199836e-02],\n",
              "          [1.41676255e-02],\n",
              "          ...,\n",
              "          [1.63967982e-02],\n",
              "          [1.72667429e-02],\n",
              "          [2.08418258e-02]],\n",
              "\n",
              "         ...,\n",
              "\n",
              "         [[8.49176024e-04],\n",
              "          [7.35819689e-04],\n",
              "          [6.29818067e-04],\n",
              "          ...,\n",
              "          [3.82707687e-04],\n",
              "          [2.64097587e-04],\n",
              "          [2.56642437e-04]],\n",
              "\n",
              "         [[3.08643648e-04],\n",
              "          [3.24448280e-04],\n",
              "          [3.03126435e-04],\n",
              "          ...,\n",
              "          [1.98792855e-04],\n",
              "          [1.26275481e-04],\n",
              "          [7.77439200e-05]],\n",
              "\n",
              "         [[4.82023170e-05],\n",
              "          [2.39345918e-05],\n",
              "          [1.06486777e-05],\n",
              "          ...,\n",
              "          [1.28967244e-07],\n",
              "          [1.59597651e-08],\n",
              "          [5.88715121e-09]]],\n",
              "\n",
              "\n",
              "        [[[3.45902562e+00],\n",
              "          [1.28902044e+01],\n",
              "          [4.13116503e+00],\n",
              "          ...,\n",
              "          [1.67326421e-01],\n",
              "          [9.95329246e-02],\n",
              "          [8.68046880e-02]],\n",
              "\n",
              "         [[7.62983412e-02],\n",
              "          [9.17656720e-02],\n",
              "          [6.88132867e-02],\n",
              "          ...,\n",
              "          [4.09212448e-02],\n",
              "          [3.57196219e-02],\n",
              "          [3.05253509e-02]],\n",
              "\n",
              "         [[2.52872314e-02],\n",
              "          [2.59426143e-02],\n",
              "          [4.48366925e-02],\n",
              "          ...,\n",
              "          [3.39428671e-02],\n",
              "          [5.12772053e-02],\n",
              "          [2.87226643e-02]],\n",
              "\n",
              "         ...,\n",
              "\n",
              "         [[5.50622026e-05],\n",
              "          [1.88246908e-04],\n",
              "          [2.42152091e-04],\n",
              "          ...,\n",
              "          [3.94478448e-05],\n",
              "          [4.14348797e-05],\n",
              "          [3.73844741e-05]],\n",
              "\n",
              "         [[3.41000450e-05],\n",
              "          [2.73051537e-05],\n",
              "          [2.40310455e-05],\n",
              "          ...,\n",
              "          [1.90281353e-05],\n",
              "          [1.85321423e-05],\n",
              "          [1.26648029e-05]],\n",
              "\n",
              "         [[9.95182381e-06],\n",
              "          [6.72333226e-06],\n",
              "          [5.58909414e-06],\n",
              "          ...,\n",
              "          [1.14107159e-07],\n",
              "          [1.15763932e-08],\n",
              "          [3.83204712e-09]]],\n",
              "\n",
              "\n",
              "        [[[5.82233429e-01],\n",
              "          [3.97594839e-01],\n",
              "          [3.35792899e-01],\n",
              "          ...,\n",
              "          [5.11361265e+00],\n",
              "          [9.33124602e-01],\n",
              "          [1.89743355e-01]],\n",
              "\n",
              "         [[1.28755555e-01],\n",
              "          [7.42908046e-02],\n",
              "          [5.34415841e-02],\n",
              "          ...,\n",
              "          [1.81609690e-02],\n",
              "          [1.99751202e-02],\n",
              "          [1.54653564e-02]],\n",
              "\n",
              "         [[7.04172160e-03],\n",
              "          [8.20066221e-03],\n",
              "          [1.23217450e-02],\n",
              "          ...,\n",
              "          [5.88104781e-03],\n",
              "          [9.04516224e-03],\n",
              "          [1.08377412e-02]],\n",
              "\n",
              "         ...,\n",
              "\n",
              "         [[2.89549589e-05],\n",
              "          [2.05771139e-05],\n",
              "          [1.88730519e-05],\n",
              "          ...,\n",
              "          [1.19196075e-05],\n",
              "          [1.17443769e-05],\n",
              "          [1.23186710e-05]],\n",
              "\n",
              "         [[1.22199472e-05],\n",
              "          [1.06839216e-05],\n",
              "          [8.72893361e-06],\n",
              "          ...,\n",
              "          [5.15071633e-06],\n",
              "          [4.14308806e-06],\n",
              "          [4.17865749e-06]],\n",
              "\n",
              "         [[3.66083395e-06],\n",
              "          [2.44390776e-06],\n",
              "          [1.29913371e-06],\n",
              "          ...,\n",
              "          [3.09040828e-08],\n",
              "          [4.18951229e-09],\n",
              "          [1.88756566e-09]]]])"
            ]
          },
          "metadata": {},
          "execution_count": 25
        }
      ]
    },
    {
      "cell_type": "code",
      "source": [],
      "metadata": {
        "id": "gmH2HAczbgiJ"
      },
      "execution_count": null,
      "outputs": []
    }
  ]
}