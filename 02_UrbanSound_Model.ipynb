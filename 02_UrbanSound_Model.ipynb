{
 "nbformat": 4,
 "nbformat_minor": 0,
 "metadata": {
  "colab": {
   "provenance": []
  },
  "kernelspec": {
   "name": "python3",
   "display_name": "Python 3"
  },
  "language_info": {
   "name": "python"
  },
  "accelerator": "GPU"
 },
 "cells": [
  {
   "cell_type": "code",
   "execution_count": 28,
   "metadata": {
    "id": "WxHNlHumcaeW"
   },
   "outputs": [],
   "source": [
    "import pandas as pd\n",
    "import numpy as np\n",
    "pd.plotting.register_matplotlib_converters()\n",
    "import matplotlib.pyplot as plt\n",
    "%matplotlib inline\n",
    "import seaborn as sns\n",
    "from sklearn.model_selection import train_test_split\n",
    "from sklearn.metrics import classification_report\n",
    "from sklearn.model_selection import GridSearchCV\n",
    "from sklearn.preprocessing import MinMaxScaler\n",
    "from tensorflow.keras.models import Sequential\n",
    "from tensorflow.keras.layers import Conv2D, Flatten, Dense, MaxPool2D, Dropout\n",
    "from tensorflow.keras.utils import to_categorical \n",
    "from sklearn.ensemble import RandomForestClassifier\n",
    "from sklearn.svm import SVC\n",
    "import os\n",
    "import librosa\n",
    "import librosa.display\n",
    "import glob \n",
    "import skimage"
   ]
  },
  {
   "cell_type": "code",
   "source": [
    "X_train = np.load('/Users/gokseld/Downloads/UrbanSound8K/X_train.npy',\"r\")\n",
    "Y_train = np.load('/Users/gokseld/Downloads/UrbanSound8K/Y_train.npy',\"r\")\n",
    "X_test = np.load('/Users/gokseld/Downloads/UrbanSound8K/X_test.npy',\"r\")\n",
    "Y_test = np.load('/Users/gokseld/Downloads/UrbanSound8K/Y_test.npy',\"r\")"
   ],
   "metadata": {
    "id": "sIZAplgEcw-q",
    "colab": {
     "base_uri": "https://localhost:8080/",
     "height": 148
    },
    "outputId": "c9902ada-3d20-4c65-82d0-654fda1692f3"
   },
   "execution_count": 29,
   "outputs": []
  },
  {
   "cell_type": "code",
   "source": [
    "model = Sequential()"
   ],
   "metadata": {
    "id": "ukZsHKjRcrEW"
   },
   "execution_count": 30,
   "outputs": []
  },
  {
   "cell_type": "code",
   "source": [
    "input_dim = (16, 8, 1)"
   ],
   "metadata": {
    "id": "CpV65oStfXgD"
   },
   "execution_count": 31,
   "outputs": []
  },
  {
   "cell_type": "code",
   "source": [
    "model.add(Conv2D(64, (3, 3), padding = \"same\", activation = \"tanh\", input_shape = input_dim))\n",
    "model.add(MaxPool2D(pool_size=(2, 2)))\n",
    "model.add(Conv2D(128, (3, 3), padding = \"same\", activation = \"tanh\"))\n",
    "model.add(MaxPool2D(pool_size=(2, 2)))\n",
    "model.add(Dropout(0.1))\n",
    "model.add(Flatten())\n",
    "model.add(Dense(1024, activation = \"tanh\"))\n",
    "model.add(Dense(10, activation = \"softmax\"))"
   ],
   "metadata": {
    "id": "SgBoZRejcwQD"
   },
   "execution_count": 32,
   "outputs": []
  },
  {
   "cell_type": "code",
   "source": [
    "model.compile(optimizer = 'adam', loss = 'categorical_crossentropy', metrics = ['accuracy'])"
   ],
   "metadata": {
    "id": "jmraV1z7czic"
   },
   "execution_count": 33,
   "outputs": []
  },
  {
   "cell_type": "code",
   "source": [
    "result = model.fit(X_train, Y_train, epochs = 100, batch_size = 50, validation_data = (X_test, Y_test))"
   ],
   "metadata": {
    "colab": {
     "base_uri": "https://localhost:8080/"
    },
    "id": "5_10jW_ac1VA",
    "outputId": "c2e3b7bd-8e11-47f5-bfdd-773ff74de331"
   },
   "execution_count": 34,
   "outputs": [
    {
     "name": "stdout",
     "output_type": "stream",
     "text": [
      "Epoch 1/100\n",
      "  5/131 [>.............................] - ETA: 1s - loss: 2.2801 - accuracy: 0.2120 "
     ]
    },
    {
     "name": "stderr",
     "output_type": "stream",
     "text": [
      "2022-10-07 16:27:21.471199: I tensorflow/core/grappler/optimizers/custom_graph_optimizer_registry.cc:114] Plugin optimizer for device_type GPU is enabled.\n"
     ]
    },
    {
     "name": "stdout",
     "output_type": "stream",
     "text": [
      "131/131 [==============================] - ETA: 0s - loss: 1.5319 - accuracy: 0.4784"
     ]
    },
    {
     "name": "stderr",
     "output_type": "stream",
     "text": [
      "2022-10-07 16:27:23.497954: I tensorflow/core/grappler/optimizers/custom_graph_optimizer_registry.cc:114] Plugin optimizer for device_type GPU is enabled.\n"
     ]
    },
    {
     "name": "stdout",
     "output_type": "stream",
     "text": [
      "131/131 [==============================] - 3s 17ms/step - loss: 1.5319 - accuracy: 0.4784 - val_loss: 1.2853 - val_accuracy: 0.5634\n",
      "Epoch 2/100\n",
      "131/131 [==============================] - 2s 16ms/step - loss: 1.1545 - accuracy: 0.6102 - val_loss: 1.1776 - val_accuracy: 0.6005\n",
      "Epoch 3/100\n",
      "131/131 [==============================] - 2s 15ms/step - loss: 0.9598 - accuracy: 0.6708 - val_loss: 1.0719 - val_accuracy: 0.6436\n",
      "Epoch 4/100\n",
      "131/131 [==============================] - 2s 16ms/step - loss: 0.8420 - accuracy: 0.7204 - val_loss: 1.0905 - val_accuracy: 0.6693\n",
      "Epoch 5/100\n",
      "131/131 [==============================] - 2s 16ms/step - loss: 0.7620 - accuracy: 0.7433 - val_loss: 0.9468 - val_accuracy: 0.7105\n",
      "Epoch 6/100\n",
      "131/131 [==============================] - 2s 17ms/step - loss: 0.6938 - accuracy: 0.7732 - val_loss: 0.8931 - val_accuracy: 0.7242\n",
      "Epoch 7/100\n",
      "131/131 [==============================] - 2s 16ms/step - loss: 0.6163 - accuracy: 0.7951 - val_loss: 0.8993 - val_accuracy: 0.7151\n",
      "Epoch 8/100\n",
      "131/131 [==============================] - 2s 15ms/step - loss: 0.5905 - accuracy: 0.8075 - val_loss: 0.8267 - val_accuracy: 0.7517\n",
      "Epoch 9/100\n",
      "131/131 [==============================] - 2s 17ms/step - loss: 0.5369 - accuracy: 0.8177 - val_loss: 0.8487 - val_accuracy: 0.7563\n",
      "Epoch 10/100\n",
      "131/131 [==============================] - 2s 16ms/step - loss: 0.5000 - accuracy: 0.8339 - val_loss: 0.8483 - val_accuracy: 0.7746\n",
      "Epoch 11/100\n",
      "131/131 [==============================] - 2s 15ms/step - loss: 0.4536 - accuracy: 0.8499 - val_loss: 0.8301 - val_accuracy: 0.7723\n",
      "Epoch 12/100\n",
      "131/131 [==============================] - 2s 15ms/step - loss: 0.4643 - accuracy: 0.8470 - val_loss: 0.7867 - val_accuracy: 0.7797\n",
      "Epoch 13/100\n",
      "131/131 [==============================] - 2s 16ms/step - loss: 0.4105 - accuracy: 0.8667 - val_loss: 0.8397 - val_accuracy: 0.7801\n",
      "Epoch 14/100\n",
      "131/131 [==============================] - 2s 16ms/step - loss: 0.3893 - accuracy: 0.8713 - val_loss: 0.7874 - val_accuracy: 0.7934\n",
      "Epoch 15/100\n",
      "131/131 [==============================] - 2s 16ms/step - loss: 0.3782 - accuracy: 0.8725 - val_loss: 0.8225 - val_accuracy: 0.7760\n",
      "Epoch 16/100\n",
      "131/131 [==============================] - 2s 16ms/step - loss: 0.3616 - accuracy: 0.8835 - val_loss: 0.8380 - val_accuracy: 0.7847\n",
      "Epoch 17/100\n",
      "131/131 [==============================] - 2s 15ms/step - loss: 0.3421 - accuracy: 0.8859 - val_loss: 0.7968 - val_accuracy: 0.7971\n",
      "Epoch 18/100\n",
      "131/131 [==============================] - 2s 15ms/step - loss: 0.3251 - accuracy: 0.8954 - val_loss: 0.8264 - val_accuracy: 0.7833\n",
      "Epoch 19/100\n",
      "131/131 [==============================] - 2s 15ms/step - loss: 0.3064 - accuracy: 0.8992 - val_loss: 0.7760 - val_accuracy: 0.7925\n",
      "Epoch 20/100\n",
      "131/131 [==============================] - 2s 15ms/step - loss: 0.3022 - accuracy: 0.9056 - val_loss: 0.8194 - val_accuracy: 0.7975\n",
      "Epoch 21/100\n",
      "131/131 [==============================] - 2s 15ms/step - loss: 0.2920 - accuracy: 0.9084 - val_loss: 0.8034 - val_accuracy: 0.8012\n",
      "Epoch 22/100\n",
      "131/131 [==============================] - 2s 15ms/step - loss: 0.2797 - accuracy: 0.9104 - val_loss: 0.8564 - val_accuracy: 0.8104\n",
      "Epoch 23/100\n",
      "131/131 [==============================] - 2s 16ms/step - loss: 0.2742 - accuracy: 0.9107 - val_loss: 0.8650 - val_accuracy: 0.8016\n",
      "Epoch 24/100\n",
      "131/131 [==============================] - 2s 15ms/step - loss: 0.2563 - accuracy: 0.9177 - val_loss: 0.8461 - val_accuracy: 0.8090\n",
      "Epoch 25/100\n",
      "131/131 [==============================] - 2s 15ms/step - loss: 0.2469 - accuracy: 0.9194 - val_loss: 0.7870 - val_accuracy: 0.8140\n",
      "Epoch 26/100\n",
      "131/131 [==============================] - 2s 15ms/step - loss: 0.2462 - accuracy: 0.9200 - val_loss: 0.8705 - val_accuracy: 0.7998\n",
      "Epoch 27/100\n",
      "131/131 [==============================] - 2s 15ms/step - loss: 0.2372 - accuracy: 0.9229 - val_loss: 0.7613 - val_accuracy: 0.8181\n",
      "Epoch 28/100\n",
      "131/131 [==============================] - 2s 16ms/step - loss: 0.2148 - accuracy: 0.9290 - val_loss: 0.7961 - val_accuracy: 0.8181\n",
      "Epoch 29/100\n",
      "131/131 [==============================] - 2s 15ms/step - loss: 0.2283 - accuracy: 0.9241 - val_loss: 0.8059 - val_accuracy: 0.8397\n",
      "Epoch 30/100\n",
      "131/131 [==============================] - 2s 16ms/step - loss: 0.1937 - accuracy: 0.9375 - val_loss: 0.7861 - val_accuracy: 0.8287\n",
      "Epoch 31/100\n",
      "131/131 [==============================] - 2s 17ms/step - loss: 0.1853 - accuracy: 0.9404 - val_loss: 0.7958 - val_accuracy: 0.8268\n",
      "Epoch 32/100\n",
      "131/131 [==============================] - 2s 16ms/step - loss: 0.1689 - accuracy: 0.9467 - val_loss: 0.7778 - val_accuracy: 0.8259\n",
      "Epoch 33/100\n",
      "131/131 [==============================] - 2s 16ms/step - loss: 0.1777 - accuracy: 0.9415 - val_loss: 0.8475 - val_accuracy: 0.8282\n",
      "Epoch 34/100\n",
      "131/131 [==============================] - 2s 16ms/step - loss: 0.2244 - accuracy: 0.9264 - val_loss: 0.8886 - val_accuracy: 0.8108\n",
      "Epoch 35/100\n",
      "131/131 [==============================] - 2s 15ms/step - loss: 0.1828 - accuracy: 0.9432 - val_loss: 0.8068 - val_accuracy: 0.8264\n",
      "Epoch 36/100\n",
      "131/131 [==============================] - 2s 16ms/step - loss: 0.1564 - accuracy: 0.9463 - val_loss: 0.8377 - val_accuracy: 0.8076\n",
      "Epoch 37/100\n",
      "131/131 [==============================] - 2s 16ms/step - loss: 0.1516 - accuracy: 0.9514 - val_loss: 0.8280 - val_accuracy: 0.8310\n",
      "Epoch 38/100\n",
      "131/131 [==============================] - 2s 15ms/step - loss: 0.1403 - accuracy: 0.9525 - val_loss: 0.8737 - val_accuracy: 0.8232\n",
      "Epoch 39/100\n",
      "131/131 [==============================] - 2s 16ms/step - loss: 0.1270 - accuracy: 0.9586 - val_loss: 0.8546 - val_accuracy: 0.8337\n",
      "Epoch 40/100\n",
      "131/131 [==============================] - 2s 15ms/step - loss: 0.1399 - accuracy: 0.9546 - val_loss: 0.8821 - val_accuracy: 0.8259\n",
      "Epoch 41/100\n",
      "131/131 [==============================] - 2s 15ms/step - loss: 0.1506 - accuracy: 0.9499 - val_loss: 0.7965 - val_accuracy: 0.8406\n",
      "Epoch 42/100\n",
      "131/131 [==============================] - 2s 16ms/step - loss: 0.1490 - accuracy: 0.9502 - val_loss: 0.8316 - val_accuracy: 0.8342\n",
      "Epoch 43/100\n",
      "131/131 [==============================] - 2s 15ms/step - loss: 0.1319 - accuracy: 0.9562 - val_loss: 0.7797 - val_accuracy: 0.8443\n",
      "Epoch 44/100\n",
      "131/131 [==============================] - 2s 16ms/step - loss: 0.1294 - accuracy: 0.9550 - val_loss: 0.8800 - val_accuracy: 0.8337\n",
      "Epoch 45/100\n",
      "131/131 [==============================] - 2s 16ms/step - loss: 0.1182 - accuracy: 0.9576 - val_loss: 0.9036 - val_accuracy: 0.8287\n",
      "Epoch 46/100\n",
      "131/131 [==============================] - 2s 15ms/step - loss: 0.1095 - accuracy: 0.9640 - val_loss: 0.7930 - val_accuracy: 0.8507\n",
      "Epoch 47/100\n",
      "131/131 [==============================] - 2s 16ms/step - loss: 0.0981 - accuracy: 0.9664 - val_loss: 0.8317 - val_accuracy: 0.8420\n",
      "Epoch 48/100\n",
      "131/131 [==============================] - 2s 16ms/step - loss: 0.0959 - accuracy: 0.9673 - val_loss: 0.8095 - val_accuracy: 0.8447\n",
      "Epoch 49/100\n",
      "131/131 [==============================] - 2s 15ms/step - loss: 0.1138 - accuracy: 0.9615 - val_loss: 0.9157 - val_accuracy: 0.8355\n",
      "Epoch 50/100\n",
      "131/131 [==============================] - 2s 15ms/step - loss: 0.1298 - accuracy: 0.9574 - val_loss: 0.8413 - val_accuracy: 0.8465\n",
      "Epoch 51/100\n",
      "131/131 [==============================] - 2s 15ms/step - loss: 0.1518 - accuracy: 0.9517 - val_loss: 0.8981 - val_accuracy: 0.8378\n",
      "Epoch 52/100\n",
      "131/131 [==============================] - 2s 15ms/step - loss: 0.1330 - accuracy: 0.9557 - val_loss: 0.8659 - val_accuracy: 0.8420\n",
      "Epoch 53/100\n",
      "131/131 [==============================] - 2s 16ms/step - loss: 0.0978 - accuracy: 0.9658 - val_loss: 0.8999 - val_accuracy: 0.8406\n",
      "Epoch 54/100\n",
      "131/131 [==============================] - 2s 16ms/step - loss: 0.0932 - accuracy: 0.9692 - val_loss: 0.7879 - val_accuracy: 0.8548\n",
      "Epoch 55/100\n",
      "131/131 [==============================] - 2s 16ms/step - loss: 0.0860 - accuracy: 0.9711 - val_loss: 0.8358 - val_accuracy: 0.8475\n",
      "Epoch 56/100\n",
      "131/131 [==============================] - 2s 15ms/step - loss: 0.0772 - accuracy: 0.9751 - val_loss: 0.8970 - val_accuracy: 0.8433\n",
      "Epoch 57/100\n",
      "131/131 [==============================] - 2s 15ms/step - loss: 0.0829 - accuracy: 0.9721 - val_loss: 0.8749 - val_accuracy: 0.8392\n",
      "Epoch 58/100\n",
      "131/131 [==============================] - 2s 16ms/step - loss: 0.0991 - accuracy: 0.9661 - val_loss: 0.9335 - val_accuracy: 0.8374\n",
      "Epoch 59/100\n",
      "131/131 [==============================] - 2s 15ms/step - loss: 0.0832 - accuracy: 0.9736 - val_loss: 0.9210 - val_accuracy: 0.8365\n",
      "Epoch 60/100\n",
      "131/131 [==============================] - 2s 15ms/step - loss: 0.0829 - accuracy: 0.9721 - val_loss: 0.8814 - val_accuracy: 0.8452\n",
      "Epoch 61/100\n",
      "131/131 [==============================] - 2s 15ms/step - loss: 0.0802 - accuracy: 0.9743 - val_loss: 0.9187 - val_accuracy: 0.8374\n",
      "Epoch 62/100\n",
      "131/131 [==============================] - 2s 15ms/step - loss: 0.0889 - accuracy: 0.9699 - val_loss: 0.9000 - val_accuracy: 0.8543\n",
      "Epoch 63/100\n",
      "131/131 [==============================] - 2s 15ms/step - loss: 0.0775 - accuracy: 0.9759 - val_loss: 0.8524 - val_accuracy: 0.8539\n",
      "Epoch 64/100\n",
      "131/131 [==============================] - 2s 15ms/step - loss: 0.0616 - accuracy: 0.9792 - val_loss: 0.9247 - val_accuracy: 0.8484\n",
      "Epoch 65/100\n",
      "131/131 [==============================] - 2s 16ms/step - loss: 0.0905 - accuracy: 0.9704 - val_loss: 0.9181 - val_accuracy: 0.8475\n",
      "Epoch 66/100\n",
      "131/131 [==============================] - 2s 15ms/step - loss: 0.0952 - accuracy: 0.9672 - val_loss: 0.9595 - val_accuracy: 0.8465\n",
      "Epoch 67/100\n",
      "131/131 [==============================] - 2s 15ms/step - loss: 0.0869 - accuracy: 0.9710 - val_loss: 0.9062 - val_accuracy: 0.8475\n",
      "Epoch 68/100\n",
      "131/131 [==============================] - 2s 16ms/step - loss: 0.0716 - accuracy: 0.9777 - val_loss: 0.8687 - val_accuracy: 0.8502\n",
      "Epoch 69/100\n",
      "131/131 [==============================] - 2s 15ms/step - loss: 0.0520 - accuracy: 0.9832 - val_loss: 0.8713 - val_accuracy: 0.8594\n",
      "Epoch 70/100\n",
      "131/131 [==============================] - 2s 15ms/step - loss: 0.0554 - accuracy: 0.9812 - val_loss: 0.9149 - val_accuracy: 0.8621\n",
      "Epoch 71/100\n",
      "131/131 [==============================] - 2s 15ms/step - loss: 0.0609 - accuracy: 0.9780 - val_loss: 0.9476 - val_accuracy: 0.8548\n",
      "Epoch 72/100\n",
      "131/131 [==============================] - 2s 15ms/step - loss: 0.0605 - accuracy: 0.9808 - val_loss: 0.9818 - val_accuracy: 0.8433\n",
      "Epoch 73/100\n",
      "131/131 [==============================] - 2s 15ms/step - loss: 0.0718 - accuracy: 0.9769 - val_loss: 0.9955 - val_accuracy: 0.8484\n",
      "Epoch 74/100\n",
      "131/131 [==============================] - 2s 16ms/step - loss: 0.0801 - accuracy: 0.9692 - val_loss: 1.0260 - val_accuracy: 0.8355\n",
      "Epoch 75/100\n",
      "131/131 [==============================] - 2s 16ms/step - loss: 0.1003 - accuracy: 0.9685 - val_loss: 0.9045 - val_accuracy: 0.8571\n",
      "Epoch 76/100\n",
      "131/131 [==============================] - 2s 15ms/step - loss: 0.0774 - accuracy: 0.9742 - val_loss: 0.8776 - val_accuracy: 0.8516\n",
      "Epoch 77/100\n",
      "131/131 [==============================] - 2s 15ms/step - loss: 0.0745 - accuracy: 0.9727 - val_loss: 0.8851 - val_accuracy: 0.8511\n",
      "Epoch 78/100\n",
      "131/131 [==============================] - 2s 15ms/step - loss: 0.0582 - accuracy: 0.9791 - val_loss: 0.8454 - val_accuracy: 0.8607\n",
      "Epoch 79/100\n",
      "131/131 [==============================] - 2s 16ms/step - loss: 0.0608 - accuracy: 0.9794 - val_loss: 0.8756 - val_accuracy: 0.8621\n",
      "Epoch 80/100\n",
      "131/131 [==============================] - 2s 15ms/step - loss: 0.0517 - accuracy: 0.9827 - val_loss: 0.8992 - val_accuracy: 0.8681\n",
      "Epoch 81/100\n",
      "131/131 [==============================] - 2s 16ms/step - loss: 0.0540 - accuracy: 0.9824 - val_loss: 0.9763 - val_accuracy: 0.8543\n",
      "Epoch 82/100\n",
      "131/131 [==============================] - 2s 16ms/step - loss: 0.0427 - accuracy: 0.9864 - val_loss: 0.8435 - val_accuracy: 0.8644\n",
      "Epoch 83/100\n",
      "131/131 [==============================] - 2s 15ms/step - loss: 0.0409 - accuracy: 0.9858 - val_loss: 0.8915 - val_accuracy: 0.8653\n",
      "Epoch 84/100\n",
      "131/131 [==============================] - 2s 16ms/step - loss: 0.0418 - accuracy: 0.9849 - val_loss: 0.9292 - val_accuracy: 0.8589\n",
      "Epoch 85/100\n",
      "131/131 [==============================] - 2s 16ms/step - loss: 0.0603 - accuracy: 0.9800 - val_loss: 1.0154 - val_accuracy: 0.8502\n",
      "Epoch 86/100\n",
      "131/131 [==============================] - 2s 15ms/step - loss: 0.0675 - accuracy: 0.9774 - val_loss: 0.9733 - val_accuracy: 0.8484\n",
      "Epoch 87/100\n",
      "131/131 [==============================] - 2s 15ms/step - loss: 0.0665 - accuracy: 0.9792 - val_loss: 0.9919 - val_accuracy: 0.8443\n",
      "Epoch 88/100\n",
      "131/131 [==============================] - 2s 15ms/step - loss: 0.0515 - accuracy: 0.9823 - val_loss: 0.9399 - val_accuracy: 0.8557\n",
      "Epoch 89/100\n",
      "131/131 [==============================] - 2s 15ms/step - loss: 0.0498 - accuracy: 0.9818 - val_loss: 0.9216 - val_accuracy: 0.8520\n",
      "Epoch 90/100\n",
      "131/131 [==============================] - 2s 15ms/step - loss: 0.0546 - accuracy: 0.9812 - val_loss: 0.9229 - val_accuracy: 0.8552\n",
      "Epoch 91/100\n",
      "131/131 [==============================] - 2s 15ms/step - loss: 0.0604 - accuracy: 0.9798 - val_loss: 1.0026 - val_accuracy: 0.8461\n",
      "Epoch 92/100\n",
      "131/131 [==============================] - 2s 15ms/step - loss: 0.0538 - accuracy: 0.9821 - val_loss: 0.9755 - val_accuracy: 0.8617\n",
      "Epoch 93/100\n",
      "131/131 [==============================] - 2s 15ms/step - loss: 0.0603 - accuracy: 0.9794 - val_loss: 0.9266 - val_accuracy: 0.8520\n",
      "Epoch 94/100\n",
      "131/131 [==============================] - 2s 15ms/step - loss: 0.0498 - accuracy: 0.9817 - val_loss: 0.8661 - val_accuracy: 0.8617\n",
      "Epoch 95/100\n",
      "131/131 [==============================] - 2s 15ms/step - loss: 0.0408 - accuracy: 0.9861 - val_loss: 0.9426 - val_accuracy: 0.8562\n",
      "Epoch 96/100\n",
      "131/131 [==============================] - 2s 15ms/step - loss: 0.0432 - accuracy: 0.9870 - val_loss: 0.9277 - val_accuracy: 0.8626\n",
      "Epoch 97/100\n",
      "131/131 [==============================] - 2s 15ms/step - loss: 0.0540 - accuracy: 0.9829 - val_loss: 0.9534 - val_accuracy: 0.8603\n",
      "Epoch 98/100\n",
      "131/131 [==============================] - 2s 15ms/step - loss: 0.0384 - accuracy: 0.9869 - val_loss: 0.9672 - val_accuracy: 0.8649\n",
      "Epoch 99/100\n",
      "131/131 [==============================] - 2s 15ms/step - loss: 0.0431 - accuracy: 0.9855 - val_loss: 1.1007 - val_accuracy: 0.8502\n",
      "Epoch 100/100\n",
      "131/131 [==============================] - 2s 15ms/step - loss: 0.0536 - accuracy: 0.9805 - val_loss: 0.9840 - val_accuracy: 0.8598\n"
     ]
    }
   ]
  },
  {
   "cell_type": "code",
   "source": [
    "model.summary()"
   ],
   "metadata": {
    "colab": {
     "base_uri": "https://localhost:8080/"
    },
    "id": "oA6l9zCDc7N0",
    "outputId": "f0bfaac0-83c5-4205-c401-46311a40bdc0"
   },
   "execution_count": 35,
   "outputs": [
    {
     "name": "stdout",
     "output_type": "stream",
     "text": [
      "Model: \"sequential_1\"\n",
      "_________________________________________________________________\n",
      " Layer (type)                Output Shape              Param #   \n",
      "=================================================================\n",
      " conv2d_2 (Conv2D)           (None, 16, 8, 64)         640       \n",
      "                                                                 \n",
      " max_pooling2d_2 (MaxPooling  (None, 8, 4, 64)         0         \n",
      " 2D)                                                             \n",
      "                                                                 \n",
      " conv2d_3 (Conv2D)           (None, 8, 4, 128)         73856     \n",
      "                                                                 \n",
      " max_pooling2d_3 (MaxPooling  (None, 4, 2, 128)        0         \n",
      " 2D)                                                             \n",
      "                                                                 \n",
      " dropout_1 (Dropout)         (None, 4, 2, 128)         0         \n",
      "                                                                 \n",
      " flatten_1 (Flatten)         (None, 1024)              0         \n",
      "                                                                 \n",
      " dense_2 (Dense)             (None, 1024)              1049600   \n",
      "                                                                 \n",
      " dense_3 (Dense)             (None, 10)                10250     \n",
      "                                                                 \n",
      "=================================================================\n",
      "Total params: 1,134,346\n",
      "Trainable params: 1,134,346\n",
      "Non-trainable params: 0\n",
      "_________________________________________________________________\n"
     ]
    }
   ]
  },
  {
   "cell_type": "code",
   "source": [
    "# Plot the the training loss\n",
    "plt.plot(result.history[\"loss\"],label=\"loss\")\n",
    "\n",
    "# Plot the the validation loss\n",
    "plt.plot(result.history[\"val_loss\"],label=\"val_loss\")\n",
    "\n",
    "# Name the x and y axises\n",
    "plt.xlabel(\"Epoch\")\n",
    "plt.ylabel(\"Loss\")\n",
    "# Put legend table\n",
    "plt.legend()\n",
    "\n",
    "# Show the plot\n",
    "plt.show()"
   ],
   "metadata": {
    "colab": {
     "base_uri": "https://localhost:8080/",
     "height": 235
    },
    "id": "D3bkjnkfdQ61",
    "outputId": "aeb47982-894d-4ba6-ff09-0caf7c13a616"
   },
   "execution_count": 36,
   "outputs": [
    {
     "data": {
      "text/plain": "<Figure size 432x288 with 1 Axes>",
      "image/png": "[encoded data removed]"
     },
     "metadata": {
      "needs_background": "light"
     },
     "output_type": "display_data"
    }
   ]
  },
  {
   "cell_type": "code",
   "execution_count": 37,
   "outputs": [
    {
     "data": {
      "text/plain": "<Figure size 432x288 with 1 Axes>",
      "image/png": "[encoded data removed]"
     },
     "metadata": {
      "needs_background": "light"
     },
     "output_type": "display_data"
    }
   ],
   "source": [
    "# Plot the the training accuracy\n",
    "plt.plot(result.history[\"accuracy\"], label=\"accuracy\")\n",
    "\n",
    "# Plot the the validation accuracy\n",
    "plt.plot(result.history[\"val_accuracy\"], label=\"val_accuracy\")\n",
    "# Name the x and y axises\n",
    "plt.xlabel(\"Epoch\")\n",
    "plt.ylabel(\"Accuracy\")\n",
    "# Put legend table\n",
    "plt.legend()\n",
    "\n",
    "# Show the plot\n",
    "plt.show()"
   ],
   "metadata": {
    "collapsed": false
   }
  },
  {
   "cell_type": "code",
   "source": [
    "predictions = model.predict(X_test[[16,8,1]])\n",
    "score = model.evaluate(X_test, Y_test)\n",
    "print(score)"
   ],
   "metadata": {
    "colab": {
     "base_uri": "https://localhost:8080/"
    },
    "id": "6rnVWYKNc71b",
    "outputId": "ca59e731-9da0-4e09-81ff-884a4c8c51c7"
   },
   "execution_count": 38,
   "outputs": [
    {
     "name": "stdout",
     "output_type": "stream",
     "text": [
      "1/1 [==============================] - 0s 63ms/step\n",
      "15/69 [=====>........................] - ETA: 0s - loss: 0.7826 - accuracy: 0.8646"
     ]
    },
    {
     "name": "stderr",
     "output_type": "stream",
     "text": [
      "2022-10-07 16:30:44.391667: I tensorflow/core/grappler/optimizers/custom_graph_optimizer_registry.cc:114] Plugin optimizer for device_type GPU is enabled.\n"
     ]
    },
    {
     "name": "stdout",
     "output_type": "stream",
     "text": [
      "69/69 [==============================] - 1s 8ms/step - loss: 0.9840 - accuracy: 0.8598\n",
      "[0.9840149879455566, 0.8598259687423706]\n"
     ]
    }
   ]
  },
  {
   "cell_type": "code",
   "execution_count": 39,
   "outputs": [],
   "source": [
    "# Make prediction on the reshaped sample\n",
    "# Find the predicted class\n",
    "predicted_class = predictions.argmax()\n",
    "# Find the prediction probability\n",
    "predicted_probility = predictions.max()"
   ],
   "metadata": {
    "collapsed": false
   }
  },
  {
   "cell_type": "code",
   "execution_count": 40,
   "outputs": [
    {
     "name": "stdout",
     "output_type": "stream",
     "text": [
      "This image belongs to class 9 with 0.999660849571228 probability %\n"
     ]
    }
   ],
   "source": [
    "print(f\"This image belongs to class {predicted_class} with {predicted_probility} probability %\")"
   ],
   "metadata": {
    "collapsed": false
   }
  }
 ]
}
